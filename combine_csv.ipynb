{
 "metadata": {
  "language_info": {
   "codemirror_mode": {
    "name": "ipython",
    "version": 3
   },
   "file_extension": ".py",
   "mimetype": "text/x-python",
   "name": "python",
   "nbconvert_exporter": "python",
   "pygments_lexer": "ipython3",
   "version": "3.8.5-final"
  },
  "orig_nbformat": 2,
  "kernelspec": {
   "name": "python3",
   "display_name": "Python 3.8.5 64-bit ('standardenv': conda)",
   "metadata": {
    "interpreter": {
     "hash": "96b3fd1559923f45a2a7d38e899d8d549575064782cdf1848d466cdc642efcd4"
    }
   }
  }
 },
 "nbformat": 4,
 "nbformat_minor": 2,
 "cells": [
  {
   "cell_type": "code",
   "execution_count": null,
   "metadata": {},
   "outputs": [],
   "source": [
    "import pandas as pd\n",
    "from os import listdir\n",
    "from os.path import isfile, join"
   ]
  },
  {
   "cell_type": "code",
   "execution_count": null,
   "metadata": {},
   "outputs": [],
   "source": [
    "# Gather the path of the output files\n",
    "PATH = \"./pga_scrapy/output/\"\n",
    "\n",
    "\n",
    "onlyfiles = [f for f in listdir(PATH) if isfile(join(PATH, f))]"
   ]
  },
  {
   "cell_type": "code",
   "execution_count": null,
   "metadata": {},
   "outputs": [],
   "source": [
    "# Read in one file as the base\n",
    "df_full = pd.read_csv(PATH + onlyfiles[0])\n",
    "\n",
    "df_full = df_full.loc[:,~df_full.columns.str.contains('^rank', case=False)] \n",
    "df_full = df_full.loc[:,~df_full.columns.str.contains('TOTAL ROUNDS')] \n",
    "df_full = df_full.loc[:,~df_full.columns.str.contains('AVG')]  \n",
    "df_full = df_full.loc[:,~df_full.columns.str.startswith('ROUNDS')]  "
   ]
  },
  {
   "cell_type": "code",
   "execution_count": null,
   "metadata": {},
   "outputs": [],
   "source": [
    "for file in onlyfiles[1:]:\n",
    "    df1 = pd.read_csv(PATH + file)\n",
    "\n",
    "    df1 = df1.loc[:,~df1.columns.str.contains('^rank', case=False)] \n",
    "    df1 = df1.loc[:,~df1.columns.str.contains('TOTAL ROUNDS')] \n",
    "    df1 = df1.loc[:,~df1.columns.str.contains('AVG')]  \n",
    "    df1 = df1.loc[:,~df1.columns.str.startswith('ROUNDS')]  \n",
    "\n",
    "    df_full = pd.merge(df_full, df1, how='outer', on='PLAYER NAME')\n",
    "\n",
    "    del df1"
   ]
  },
  {
   "cell_type": "code",
   "execution_count": null,
   "metadata": {},
   "outputs": [],
   "source": [
    "del df_full"
   ]
  },
  {
   "cell_type": "code",
   "execution_count": null,
   "metadata": {},
   "outputs": [],
   "source": [
    "df_full.to_csv(\"pga_stats_draft.csv\")"
   ]
  },
  {
   "source": [
    "## Cleaning Activites / Checks to do\n",
    "\n",
    "1) Remove the 'Rank' columns\n",
    "\n",
    "2) Check to make sure the PLAYER NAMES are not duplicated\n",
    "\n",
    "3) Review most of the columns for any massive amounts of NANs"
   ],
   "cell_type": "markdown",
   "metadata": {}
  },
  {
   "cell_type": "code",
   "execution_count": null,
   "metadata": {},
   "outputs": [],
   "source": [
    "df_full.columns.str.contains('^rank', case=False)\n",
    "# array([ True, False,  True, False])\n",
    "\n"
   ]
  },
  {
   "cell_type": "code",
   "execution_count": null,
   "metadata": {},
   "outputs": [],
   "source": [
    "df_full.loc[:,~df_full.columns.str.contains('^rank', case=False)] "
   ]
  },
  {
   "cell_type": "code",
   "execution_count": null,
   "metadata": {},
   "outputs": [],
   "source": [
    "# Read in one file as the base\n",
    "df1 = pd.read_csv(PATH + onlyfiles[0])\n",
    "df2 = pd.read_csv(PATH + onlyfiles[2])\n",
    "\n",
    "df1 = df1.loc[:,~df1.columns.str.contains('^rank', case=False)] \n",
    "df1 = df1.loc[:,~df1.columns.str.contains('TOTAL ROUNDS')] \n",
    "df1 = df1.loc[:,~df1.columns.str.contains('AVG')]  \n",
    "df1 = df1.loc[:,~df1.columns.str.startswith('ROUNDS')] \n",
    "df2 = df2.loc[:,~df2.columns.str.contains('TOTAL ROUNDS')]\n",
    "df2 = df2.loc[:,~df2.columns.str.contains('AVG')]  \n",
    "df2 = df2.loc[:,~df2.columns.str.contains('^rank', case=False)] \n",
    "df2 = df2.loc[:,~df2.columns.str.startswith('ROUNDS')] \n",
    "\n",
    "df_cat_rows = pd.concat([df1, df2], axis='rows')\n",
    "df_cat_cols = pd.concat([df1, df2], axis=1)\n",
    "df_merge = pd.merge(df1, df2, how=\"outer\", on=\"PLAYER NAME\")"
   ]
  },
  {
   "cell_type": "code",
   "execution_count": null,
   "metadata": {},
   "outputs": [],
   "source": [
    "# Read in one file as the base\n",
    "df1 = pd.read_csv(PATH + onlyfiles[6])\n",
    "\n",
    "df1 = df1.loc[:,~df1.columns.str.contains('^rank', case=False)] \n",
    "df1 = df1.loc[:,~df1.columns.str.contains('TOTAL ROUNDS')] \n",
    "df1 = df1.loc[:,~df1.columns.str.contains('AVG')]  \n",
    "df1 = df1.loc[:,~df1.columns.str.startswith('ROUNDS')] \n",
    "\n",
    "df_merge = pd.merge(df1, df_merge, how=\"outer\", on=\"PLAYER NAME\")"
   ]
  },
  {
   "cell_type": "code",
   "execution_count": null,
   "metadata": {},
   "outputs": [],
   "source": [
    "onlyfiles[5]"
   ]
  },
  {
   "cell_type": "code",
   "execution_count": null,
   "metadata": {},
   "outputs": [],
   "source": []
  }
 ]
}